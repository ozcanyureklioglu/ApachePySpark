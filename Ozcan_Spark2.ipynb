{
  "nbformat": 4,
  "nbformat_minor": 0,
  "metadata": {
    "colab": {
      "name": "Ozcan_Spark2.ipynb",
      "provenance": [],
      "authorship_tag": "ABX9TyPzr6wK0cRyT3nq2xNahKu8",
      "include_colab_link": true
    },
    "kernelspec": {
      "name": "python3",
      "display_name": "Python 3"
    },
    "language_info": {
      "name": "python"
    }
  },
  "cells": [
    {
      "cell_type": "markdown",
      "metadata": {
        "id": "view-in-github",
        "colab_type": "text"
      },
      "source": [
        "<a href=\"https://colab.research.google.com/github/ozcanyureklioglu/apache-pyspark/blob/main/Ozcan_Spark2.ipynb\" target=\"_parent\"><img src=\"https://colab.research.google.com/assets/colab-badge.svg\" alt=\"Open In Colab\"/></a>"
      ]
    },
    {
      "cell_type": "code",
      "execution_count": 1,
      "metadata": {
        "colab": {
          "base_uri": "https://localhost:8080/"
        },
        "id": "rVQvCRQ5oKox",
        "outputId": "81d06444-3364-4c55-d289-1e9a02b9da2e"
      },
      "outputs": [
        {
          "output_type": "stream",
          "name": "stdout",
          "text": [
            "Mounted at /content/drive\n"
          ]
        }
      ],
      "source": [
        "from google.colab import drive\n",
        "drive.mount('/content/drive')"
      ]
    },
    {
      "cell_type": "code",
      "source": [
        "!pip install pyspark"
      ],
      "metadata": {
        "colab": {
          "base_uri": "https://localhost:8080/"
        },
        "id": "TRrvrmHOoaEz",
        "outputId": "fc938dca-3ff7-4995-b8f5-36e8952a3c34"
      },
      "execution_count": 2,
      "outputs": [
        {
          "output_type": "stream",
          "name": "stdout",
          "text": [
            "Collecting pyspark\n",
            "  Downloading pyspark-3.2.1.tar.gz (281.4 MB)\n",
            "\u001b[K     |████████████████████████████████| 281.4 MB 35 kB/s \n",
            "\u001b[?25hCollecting py4j==0.10.9.3\n",
            "  Downloading py4j-0.10.9.3-py2.py3-none-any.whl (198 kB)\n",
            "\u001b[K     |████████████████████████████████| 198 kB 41.3 MB/s \n",
            "\u001b[?25hBuilding wheels for collected packages: pyspark\n",
            "  Building wheel for pyspark (setup.py) ... \u001b[?25l\u001b[?25hdone\n",
            "  Created wheel for pyspark: filename=pyspark-3.2.1-py2.py3-none-any.whl size=281853642 sha256=74cddb5d3e4dac24f46fb2f2b9f17b640446aec3dc58bfad743e243ab6fff97e\n",
            "  Stored in directory: /root/.cache/pip/wheels/9f/f5/07/7cd8017084dce4e93e84e92efd1e1d5334db05f2e83bcef74f\n",
            "Successfully built pyspark\n",
            "Installing collected packages: py4j, pyspark\n",
            "Successfully installed py4j-0.10.9.3 pyspark-3.2.1\n"
          ]
        }
      ]
    },
    {
      "cell_type": "code",
      "source": [
        "!pip install -q findspark"
      ],
      "metadata": {
        "id": "xhTXF-Akoa5u"
      },
      "execution_count": 3,
      "outputs": []
    },
    {
      "cell_type": "code",
      "source": [
        "import findspark\n",
        "findspark.init()"
      ],
      "metadata": {
        "id": "NHVobfc0ooLL"
      },
      "execution_count": 4,
      "outputs": []
    },
    {
      "cell_type": "code",
      "source": [
        "from pyspark import SparkContext"
      ],
      "metadata": {
        "id": "j_WDr4gToq0W"
      },
      "execution_count": 5,
      "outputs": []
    },
    {
      "cell_type": "code",
      "source": [
        "from pyspark.sql import SparkSession"
      ],
      "metadata": {
        "id": "fhbtU5pxoslO"
      },
      "execution_count": 6,
      "outputs": []
    },
    {
      "cell_type": "code",
      "source": [
        "spark=SparkSession.builder.appName(\"Machine Learning\").getOrCreate()"
      ],
      "metadata": {
        "id": "K5gZbKh1ovU0"
      },
      "execution_count": 8,
      "outputs": []
    },
    {
      "cell_type": "code",
      "source": [
        "df=spark.read.option('header','true').csv('/content/drive/MyDrive/Verisetleri/Ozcan_Kalp_Hastaligi_Gostergeleri/heart_2020_cleaned.csv')"
      ],
      "metadata": {
        "id": "AMQv7W7Foyeh"
      },
      "execution_count": 22,
      "outputs": []
    },
    {
      "cell_type": "code",
      "source": [
        "df.show()"
      ],
      "metadata": {
        "colab": {
          "base_uri": "https://localhost:8080/"
        },
        "id": "JvLK9W-Qo5HB",
        "outputId": "b1805b91-38bb-4813-a511-833712d95573"
      },
      "execution_count": 23,
      "outputs": [
        {
          "output_type": "stream",
          "name": "stdout",
          "text": [
            "+------------+-----+-------+---------------+------+--------------+------------+-----------+------+-----------+-----+--------------------+----------------+---------+---------+------+-------------+----------+\n",
            "|HeartDisease|  BMI|Smoking|AlcoholDrinking|Stroke|PhysicalHealth|MentalHealth|DiffWalking|   Sex|AgeCategory| Race|            Diabetic|PhysicalActivity|GenHealth|SleepTime|Asthma|KidneyDisease|SkinCancer|\n",
            "+------------+-----+-------+---------------+------+--------------+------------+-----------+------+-----------+-----+--------------------+----------------+---------+---------+------+-------------+----------+\n",
            "|          No| 16.6|    Yes|             No|    No|           3.0|        30.0|         No|Female|      55-59|White|                 Yes|             Yes|Very good|      5.0|   Yes|           No|       Yes|\n",
            "|          No|20.34|     No|             No|   Yes|           0.0|         0.0|         No|Female|80 or older|White|                  No|             Yes|Very good|      7.0|    No|           No|        No|\n",
            "|          No|26.58|    Yes|             No|    No|          20.0|        30.0|         No|  Male|      65-69|White|                 Yes|             Yes|     Fair|      8.0|   Yes|           No|        No|\n",
            "|          No|24.21|     No|             No|    No|           0.0|         0.0|         No|Female|      75-79|White|                  No|              No|     Good|      6.0|    No|           No|       Yes|\n",
            "|          No|23.71|     No|             No|    No|          28.0|         0.0|        Yes|Female|      40-44|White|                  No|             Yes|Very good|      8.0|    No|           No|        No|\n",
            "|         Yes|28.87|    Yes|             No|    No|           6.0|         0.0|        Yes|Female|      75-79|Black|                  No|              No|     Fair|     12.0|    No|           No|        No|\n",
            "|          No|21.63|     No|             No|    No|          15.0|         0.0|         No|Female|      70-74|White|                  No|             Yes|     Fair|      4.0|   Yes|           No|       Yes|\n",
            "|          No|31.64|    Yes|             No|    No|           5.0|         0.0|        Yes|Female|80 or older|White|                 Yes|              No|     Good|      9.0|   Yes|           No|        No|\n",
            "|          No|26.45|     No|             No|    No|           0.0|         0.0|         No|Female|80 or older|White|No, borderline di...|              No|     Fair|      5.0|    No|          Yes|        No|\n",
            "|          No|40.69|     No|             No|    No|           0.0|         0.0|        Yes|  Male|      65-69|White|                  No|             Yes|     Good|     10.0|    No|           No|        No|\n",
            "|         Yes| 34.3|    Yes|             No|    No|          30.0|         0.0|        Yes|  Male|      60-64|White|                 Yes|              No|     Poor|     15.0|   Yes|           No|        No|\n",
            "|          No|28.71|    Yes|             No|    No|           0.0|         0.0|         No|Female|      55-59|White|                  No|             Yes|Very good|      5.0|    No|           No|        No|\n",
            "|          No|28.37|    Yes|             No|    No|           0.0|         0.0|        Yes|  Male|      75-79|White|                 Yes|             Yes|Very good|      8.0|    No|           No|        No|\n",
            "|          No|28.15|     No|             No|    No|           7.0|         0.0|        Yes|Female|80 or older|White|                  No|              No|     Good|      7.0|    No|           No|        No|\n",
            "|          No|29.29|    Yes|             No|    No|           0.0|        30.0|        Yes|Female|      60-64|White|                  No|              No|     Good|      5.0|    No|           No|        No|\n",
            "|          No|29.18|     No|             No|    No|           1.0|         0.0|         No|Female|      50-54|White|                  No|             Yes|Very good|      6.0|    No|           No|        No|\n",
            "|          No|26.26|     No|             No|    No|           5.0|         2.0|         No|Female|      70-74|White|                  No|              No|Very good|     10.0|    No|           No|        No|\n",
            "|          No|22.59|    Yes|             No|    No|           0.0|        30.0|        Yes|  Male|      70-74|White|No, borderline di...|             Yes|     Good|      8.0|    No|           No|        No|\n",
            "|          No|29.86|    Yes|             No|    No|           0.0|         0.0|        Yes|Female|      75-79|Black|                 Yes|              No|     Fair|      5.0|    No|          Yes|        No|\n",
            "|          No|18.13|     No|             No|    No|           0.0|         0.0|         No|  Male|80 or older|White|                  No|             Yes|Excellent|      8.0|    No|           No|       Yes|\n",
            "+------------+-----+-------+---------------+------+--------------+------------+-----------+------+-----------+-----+--------------------+----------------+---------+---------+------+-------------+----------+\n",
            "only showing top 20 rows\n",
            "\n"
          ]
        }
      ]
    },
    {
      "cell_type": "code",
      "source": [
        "df.printSchema()"
      ],
      "metadata": {
        "colab": {
          "base_uri": "https://localhost:8080/"
        },
        "id": "5PoTWjtJpE8A",
        "outputId": "6cea1993-2d16-4c17-a183-734b8626b50c"
      },
      "execution_count": 12,
      "outputs": [
        {
          "output_type": "stream",
          "name": "stdout",
          "text": [
            "root\n",
            " |-- HeartDisease: string (nullable = true)\n",
            " |-- BMI: string (nullable = true)\n",
            " |-- Smoking: string (nullable = true)\n",
            " |-- AlcoholDrinking: string (nullable = true)\n",
            " |-- Stroke: string (nullable = true)\n",
            " |-- PhysicalHealth: string (nullable = true)\n",
            " |-- MentalHealth: string (nullable = true)\n",
            " |-- DiffWalking: string (nullable = true)\n",
            " |-- Sex: string (nullable = true)\n",
            " |-- AgeCategory: string (nullable = true)\n",
            " |-- Race: string (nullable = true)\n",
            " |-- Diabetic: string (nullable = true)\n",
            " |-- PhysicalActivity: string (nullable = true)\n",
            " |-- GenHealth: string (nullable = true)\n",
            " |-- SleepTime: string (nullable = true)\n",
            " |-- Asthma: string (nullable = true)\n",
            " |-- KidneyDisease: string (nullable = true)\n",
            " |-- SkinCancer: string (nullable = true)\n",
            "\n"
          ]
        }
      ]
    },
    {
      "cell_type": "markdown",
      "source": [
        "## Kategorik Veriler"
      ],
      "metadata": {
        "id": "kNWj6KiGplEm"
      }
    },
    {
      "cell_type": "code",
      "source": [
        "from pyspark.ml.feature import StringIndexer"
      ],
      "metadata": {
        "id": "oVlvGANvpJkO"
      },
      "execution_count": 14,
      "outputs": []
    },
    {
      "cell_type": "code",
      "source": [
        "indexer=StringIndexer(inputCols=['HeartDisease','Smoking','AlcoholDrinking','Stroke','DiffWalking','Sex','AgeCategory','Race','Diabetic','PhysicalActivity','GenHealth','Asthma','KidneyDisease','SkinCancer'],\n",
        "                      outputCols=['heart_disease_index','smoking_index','alcohol_drinking_index','stroke_index','diff_walking_index','sex_index','age_category_index','race_index','diabetic_index','physical_activity_index','gen_health_index','asthma_index','kidney_disease_index','skin_cancer_index'])\n",
        "df_r=indexer.fit(df).transform(df)"
      ],
      "metadata": {
        "id": "gpJ5lB7Tr3-u"
      },
      "execution_count": 29,
      "outputs": []
    },
    {
      "cell_type": "code",
      "source": [
        "df_r.show()"
      ],
      "metadata": {
        "colab": {
          "base_uri": "https://localhost:8080/"
        },
        "id": "z4ofvgNZsXOM",
        "outputId": "86efdf1c-59df-4bd7-9d29-4579fa8016d7"
      },
      "execution_count": 30,
      "outputs": [
        {
          "output_type": "stream",
          "name": "stdout",
          "text": [
            "+------------+-----+-------+---------------+------+--------------+------------+-----------+------+-----------+-----+--------------------+----------------+---------+---------+------+-------------+----------+-------------------+-------------+----------------------+------------+------------------+---------+------------------+----------+--------------+-----------------------+----------------+------------+--------------------+-----------------+\n",
            "|HeartDisease|  BMI|Smoking|AlcoholDrinking|Stroke|PhysicalHealth|MentalHealth|DiffWalking|   Sex|AgeCategory| Race|            Diabetic|PhysicalActivity|GenHealth|SleepTime|Asthma|KidneyDisease|SkinCancer|heart_disease_index|smoking_index|alcohol_drinking_index|stroke_index|diff_walking_index|sex_index|age_category_index|race_index|diabetic_index|physical_activity_index|gen_health_index|asthma_index|kidney_disease_index|skin_cancer_index|\n",
            "+------------+-----+-------+---------------+------+--------------+------------+-----------+------+-----------+-----+--------------------+----------------+---------+---------+------+-------------+----------+-------------------+-------------+----------------------+------------+------------------+---------+------------------+----------+--------------+-----------------------+----------------+------------+--------------------+-----------------+\n",
            "|          No| 16.6|    Yes|             No|    No|           3.0|        30.0|         No|Female|      55-59|White|                 Yes|             Yes|Very good|      5.0|   Yes|           No|       Yes|                0.0|          1.0|                   0.0|         0.0|               0.0|      0.0|               3.0|       0.0|           1.0|                    0.0|             0.0|         1.0|                 0.0|              1.0|\n",
            "|          No|20.34|     No|             No|   Yes|           0.0|         0.0|         No|Female|80 or older|White|                  No|             Yes|Very good|      7.0|    No|           No|        No|                0.0|          0.0|                   0.0|         1.0|               0.0|      0.0|               5.0|       0.0|           0.0|                    0.0|             0.0|         0.0|                 0.0|              0.0|\n",
            "|          No|26.58|    Yes|             No|    No|          20.0|        30.0|         No|  Male|      65-69|White|                 Yes|             Yes|     Fair|      8.0|   Yes|           No|        No|                0.0|          1.0|                   0.0|         0.0|               0.0|      1.0|               0.0|       0.0|           1.0|                    0.0|             3.0|         1.0|                 0.0|              0.0|\n",
            "|          No|24.21|     No|             No|    No|           0.0|         0.0|         No|Female|      75-79|White|                  No|              No|     Good|      6.0|    No|           No|       Yes|                0.0|          0.0|                   0.0|         0.0|               0.0|      0.0|               7.0|       0.0|           0.0|                    1.0|             1.0|         0.0|                 0.0|              1.0|\n",
            "|          No|23.71|     No|             No|    No|          28.0|         0.0|        Yes|Female|      40-44|White|                  No|             Yes|Very good|      8.0|    No|           No|        No|                0.0|          0.0|                   0.0|         0.0|               1.0|      0.0|               9.0|       0.0|           0.0|                    0.0|             0.0|         0.0|                 0.0|              0.0|\n",
            "|         Yes|28.87|    Yes|             No|    No|           6.0|         0.0|        Yes|Female|      75-79|Black|                  No|              No|     Fair|     12.0|    No|           No|        No|                1.0|          1.0|                   0.0|         0.0|               1.0|      0.0|               7.0|       2.0|           0.0|                    1.0|             3.0|         0.0|                 0.0|              0.0|\n",
            "|          No|21.63|     No|             No|    No|          15.0|         0.0|         No|Female|      70-74|White|                  No|             Yes|     Fair|      4.0|   Yes|           No|       Yes|                0.0|          0.0|                   0.0|         0.0|               0.0|      0.0|               2.0|       0.0|           0.0|                    0.0|             3.0|         1.0|                 0.0|              1.0|\n",
            "|          No|31.64|    Yes|             No|    No|           5.0|         0.0|        Yes|Female|80 or older|White|                 Yes|              No|     Good|      9.0|   Yes|           No|        No|                0.0|          1.0|                   0.0|         0.0|               1.0|      0.0|               5.0|       0.0|           1.0|                    1.0|             1.0|         1.0|                 0.0|              0.0|\n",
            "|          No|26.45|     No|             No|    No|           0.0|         0.0|         No|Female|80 or older|White|No, borderline di...|              No|     Fair|      5.0|    No|          Yes|        No|                0.0|          0.0|                   0.0|         0.0|               0.0|      0.0|               5.0|       0.0|           2.0|                    1.0|             3.0|         0.0|                 1.0|              0.0|\n",
            "|          No|40.69|     No|             No|    No|           0.0|         0.0|        Yes|  Male|      65-69|White|                  No|             Yes|     Good|     10.0|    No|           No|        No|                0.0|          0.0|                   0.0|         0.0|               1.0|      1.0|               0.0|       0.0|           0.0|                    0.0|             1.0|         0.0|                 0.0|              0.0|\n",
            "|         Yes| 34.3|    Yes|             No|    No|          30.0|         0.0|        Yes|  Male|      60-64|White|                 Yes|              No|     Poor|     15.0|   Yes|           No|        No|                1.0|          1.0|                   0.0|         0.0|               1.0|      1.0|               1.0|       0.0|           1.0|                    1.0|             4.0|         1.0|                 0.0|              0.0|\n",
            "|          No|28.71|    Yes|             No|    No|           0.0|         0.0|         No|Female|      55-59|White|                  No|             Yes|Very good|      5.0|    No|           No|        No|                0.0|          1.0|                   0.0|         0.0|               0.0|      0.0|               3.0|       0.0|           0.0|                    0.0|             0.0|         0.0|                 0.0|              0.0|\n",
            "|          No|28.37|    Yes|             No|    No|           0.0|         0.0|        Yes|  Male|      75-79|White|                 Yes|             Yes|Very good|      8.0|    No|           No|        No|                0.0|          1.0|                   0.0|         0.0|               1.0|      1.0|               7.0|       0.0|           1.0|                    0.0|             0.0|         0.0|                 0.0|              0.0|\n",
            "|          No|28.15|     No|             No|    No|           7.0|         0.0|        Yes|Female|80 or older|White|                  No|              No|     Good|      7.0|    No|           No|        No|                0.0|          0.0|                   0.0|         0.0|               1.0|      0.0|               5.0|       0.0|           0.0|                    1.0|             1.0|         0.0|                 0.0|              0.0|\n",
            "|          No|29.29|    Yes|             No|    No|           0.0|        30.0|        Yes|Female|      60-64|White|                  No|              No|     Good|      5.0|    No|           No|        No|                0.0|          1.0|                   0.0|         0.0|               1.0|      0.0|               1.0|       0.0|           0.0|                    1.0|             1.0|         0.0|                 0.0|              0.0|\n",
            "|          No|29.18|     No|             No|    No|           1.0|         0.0|         No|Female|      50-54|White|                  No|             Yes|Very good|      6.0|    No|           No|        No|                0.0|          0.0|                   0.0|         0.0|               0.0|      0.0|               4.0|       0.0|           0.0|                    0.0|             0.0|         0.0|                 0.0|              0.0|\n",
            "|          No|26.26|     No|             No|    No|           5.0|         2.0|         No|Female|      70-74|White|                  No|              No|Very good|     10.0|    No|           No|        No|                0.0|          0.0|                   0.0|         0.0|               0.0|      0.0|               2.0|       0.0|           0.0|                    1.0|             0.0|         0.0|                 0.0|              0.0|\n",
            "|          No|22.59|    Yes|             No|    No|           0.0|        30.0|        Yes|  Male|      70-74|White|No, borderline di...|             Yes|     Good|      8.0|    No|           No|        No|                0.0|          1.0|                   0.0|         0.0|               1.0|      1.0|               2.0|       0.0|           2.0|                    0.0|             1.0|         0.0|                 0.0|              0.0|\n",
            "|          No|29.86|    Yes|             No|    No|           0.0|         0.0|        Yes|Female|      75-79|Black|                 Yes|              No|     Fair|      5.0|    No|          Yes|        No|                0.0|          1.0|                   0.0|         0.0|               1.0|      0.0|               7.0|       2.0|           1.0|                    1.0|             3.0|         0.0|                 1.0|              0.0|\n",
            "|          No|18.13|     No|             No|    No|           0.0|         0.0|         No|  Male|80 or older|White|                  No|             Yes|Excellent|      8.0|    No|           No|       Yes|                0.0|          0.0|                   0.0|         0.0|               0.0|      1.0|               5.0|       0.0|           0.0|                    0.0|             2.0|         0.0|                 0.0|              1.0|\n",
            "+------------+-----+-------+---------------+------+--------------+------------+-----------+------+-----------+-----+--------------------+----------------+---------+---------+------+-------------+----------+-------------------+-------------+----------------------+------------+------------------+---------+------------------+----------+--------------+-----------------------+----------------+------------+--------------------+-----------------+\n",
            "only showing top 20 rows\n",
            "\n"
          ]
        }
      ]
    },
    {
      "cell_type": "code",
      "source": [
        "df_r.columns"
      ],
      "metadata": {
        "colab": {
          "base_uri": "https://localhost:8080/"
        },
        "id": "3QKrISM-skgz",
        "outputId": "44ff3eb3-e197-45b7-935d-38b277eddeac"
      },
      "execution_count": 31,
      "outputs": [
        {
          "output_type": "execute_result",
          "data": {
            "text/plain": [
              "['HeartDisease',\n",
              " 'BMI',\n",
              " 'Smoking',\n",
              " 'AlcoholDrinking',\n",
              " 'Stroke',\n",
              " 'PhysicalHealth',\n",
              " 'MentalHealth',\n",
              " 'DiffWalking',\n",
              " 'Sex',\n",
              " 'AgeCategory',\n",
              " 'Race',\n",
              " 'Diabetic',\n",
              " 'PhysicalActivity',\n",
              " 'GenHealth',\n",
              " 'SleepTime',\n",
              " 'Asthma',\n",
              " 'KidneyDisease',\n",
              " 'SkinCancer',\n",
              " 'heart_disease_index',\n",
              " 'smoking_index',\n",
              " 'alcohol_drinking_index',\n",
              " 'stroke_index',\n",
              " 'diff_walking_index',\n",
              " 'sex_index',\n",
              " 'age_category_index',\n",
              " 'race_index',\n",
              " 'diabetic_index',\n",
              " 'physical_activity_index',\n",
              " 'gen_health_index',\n",
              " 'asthma_index',\n",
              " 'kidney_disease_index',\n",
              " 'skin_cancer_index']"
            ]
          },
          "metadata": {},
          "execution_count": 31
        }
      ]
    },
    {
      "cell_type": "code",
      "source": [
        "df_r.printSchema()"
      ],
      "metadata": {
        "colab": {
          "base_uri": "https://localhost:8080/"
        },
        "id": "8jKr15inuolc",
        "outputId": "309d38ab-2c88-46c6-8915-7141c332109d"
      },
      "execution_count": 32,
      "outputs": [
        {
          "output_type": "stream",
          "name": "stdout",
          "text": [
            "root\n",
            " |-- HeartDisease: string (nullable = true)\n",
            " |-- BMI: string (nullable = true)\n",
            " |-- Smoking: string (nullable = true)\n",
            " |-- AlcoholDrinking: string (nullable = true)\n",
            " |-- Stroke: string (nullable = true)\n",
            " |-- PhysicalHealth: string (nullable = true)\n",
            " |-- MentalHealth: string (nullable = true)\n",
            " |-- DiffWalking: string (nullable = true)\n",
            " |-- Sex: string (nullable = true)\n",
            " |-- AgeCategory: string (nullable = true)\n",
            " |-- Race: string (nullable = true)\n",
            " |-- Diabetic: string (nullable = true)\n",
            " |-- PhysicalActivity: string (nullable = true)\n",
            " |-- GenHealth: string (nullable = true)\n",
            " |-- SleepTime: string (nullable = true)\n",
            " |-- Asthma: string (nullable = true)\n",
            " |-- KidneyDisease: string (nullable = true)\n",
            " |-- SkinCancer: string (nullable = true)\n",
            " |-- heart_disease_index: double (nullable = false)\n",
            " |-- smoking_index: double (nullable = false)\n",
            " |-- alcohol_drinking_index: double (nullable = false)\n",
            " |-- stroke_index: double (nullable = false)\n",
            " |-- diff_walking_index: double (nullable = false)\n",
            " |-- sex_index: double (nullable = false)\n",
            " |-- age_category_index: double (nullable = false)\n",
            " |-- race_index: double (nullable = false)\n",
            " |-- diabetic_index: double (nullable = false)\n",
            " |-- physical_activity_index: double (nullable = false)\n",
            " |-- gen_health_index: double (nullable = false)\n",
            " |-- asthma_index: double (nullable = false)\n",
            " |-- kidney_disease_index: double (nullable = false)\n",
            " |-- skin_cancer_index: double (nullable = false)\n",
            "\n"
          ]
        }
      ]
    },
    {
      "cell_type": "code",
      "source": [
        "# String olan datayı int türüne çevirme\n",
        "from pyspark.sql.types import IntegerType"
      ],
      "metadata": {
        "id": "dE417yJB7ZVf"
      },
      "execution_count": 38,
      "outputs": []
    },
    {
      "cell_type": "code",
      "source": [
        "data = df_r.withColumn(\"BMI\", df_r[\"BMI\"].cast(IntegerType()))\n",
        "data = data.withColumn(\"PhysicalHealth\", data[\"PhysicalHealth\"].cast(IntegerType()))\n",
        "data = data.withColumn(\"MentalHealth\", data[\"MentalHealth\"].cast(IntegerType()))\n",
        "data = data.withColumn(\"SleepTime\", data[\"SleepTime\"].cast(IntegerType()))"
      ],
      "metadata": {
        "id": "T7cyw19o7w8Y"
      },
      "execution_count": 73,
      "outputs": []
    },
    {
      "cell_type": "code",
      "source": [
        "data.show()"
      ],
      "metadata": {
        "colab": {
          "base_uri": "https://localhost:8080/"
        },
        "id": "AzIrxirF7ylK",
        "outputId": "74e95714-c0ad-424b-ba8e-0968142533fb"
      },
      "execution_count": 74,
      "outputs": [
        {
          "output_type": "stream",
          "name": "stdout",
          "text": [
            "+------------+---+-------+---------------+------+--------------+------------+-----------+------+-----------+-----+--------------------+----------------+---------+---------+------+-------------+----------+-------------------+-------------+----------------------+------------+------------------+---------+------------------+----------+--------------+-----------------------+----------------+------------+--------------------+-----------------+\n",
            "|HeartDisease|BMI|Smoking|AlcoholDrinking|Stroke|PhysicalHealth|MentalHealth|DiffWalking|   Sex|AgeCategory| Race|            Diabetic|PhysicalActivity|GenHealth|SleepTime|Asthma|KidneyDisease|SkinCancer|heart_disease_index|smoking_index|alcohol_drinking_index|stroke_index|diff_walking_index|sex_index|age_category_index|race_index|diabetic_index|physical_activity_index|gen_health_index|asthma_index|kidney_disease_index|skin_cancer_index|\n",
            "+------------+---+-------+---------------+------+--------------+------------+-----------+------+-----------+-----+--------------------+----------------+---------+---------+------+-------------+----------+-------------------+-------------+----------------------+------------+------------------+---------+------------------+----------+--------------+-----------------------+----------------+------------+--------------------+-----------------+\n",
            "|          No| 16|    Yes|             No|    No|             3|          30|         No|Female|      55-59|White|                 Yes|             Yes|Very good|        5|   Yes|           No|       Yes|                0.0|          1.0|                   0.0|         0.0|               0.0|      0.0|               3.0|       0.0|           1.0|                    0.0|             0.0|         1.0|                 0.0|              1.0|\n",
            "|          No| 20|     No|             No|   Yes|             0|           0|         No|Female|80 or older|White|                  No|             Yes|Very good|        7|    No|           No|        No|                0.0|          0.0|                   0.0|         1.0|               0.0|      0.0|               5.0|       0.0|           0.0|                    0.0|             0.0|         0.0|                 0.0|              0.0|\n",
            "|          No| 26|    Yes|             No|    No|            20|          30|         No|  Male|      65-69|White|                 Yes|             Yes|     Fair|        8|   Yes|           No|        No|                0.0|          1.0|                   0.0|         0.0|               0.0|      1.0|               0.0|       0.0|           1.0|                    0.0|             3.0|         1.0|                 0.0|              0.0|\n",
            "|          No| 24|     No|             No|    No|             0|           0|         No|Female|      75-79|White|                  No|              No|     Good|        6|    No|           No|       Yes|                0.0|          0.0|                   0.0|         0.0|               0.0|      0.0|               7.0|       0.0|           0.0|                    1.0|             1.0|         0.0|                 0.0|              1.0|\n",
            "|          No| 23|     No|             No|    No|            28|           0|        Yes|Female|      40-44|White|                  No|             Yes|Very good|        8|    No|           No|        No|                0.0|          0.0|                   0.0|         0.0|               1.0|      0.0|               9.0|       0.0|           0.0|                    0.0|             0.0|         0.0|                 0.0|              0.0|\n",
            "|         Yes| 28|    Yes|             No|    No|             6|           0|        Yes|Female|      75-79|Black|                  No|              No|     Fair|       12|    No|           No|        No|                1.0|          1.0|                   0.0|         0.0|               1.0|      0.0|               7.0|       2.0|           0.0|                    1.0|             3.0|         0.0|                 0.0|              0.0|\n",
            "|          No| 21|     No|             No|    No|            15|           0|         No|Female|      70-74|White|                  No|             Yes|     Fair|        4|   Yes|           No|       Yes|                0.0|          0.0|                   0.0|         0.0|               0.0|      0.0|               2.0|       0.0|           0.0|                    0.0|             3.0|         1.0|                 0.0|              1.0|\n",
            "|          No| 31|    Yes|             No|    No|             5|           0|        Yes|Female|80 or older|White|                 Yes|              No|     Good|        9|   Yes|           No|        No|                0.0|          1.0|                   0.0|         0.0|               1.0|      0.0|               5.0|       0.0|           1.0|                    1.0|             1.0|         1.0|                 0.0|              0.0|\n",
            "|          No| 26|     No|             No|    No|             0|           0|         No|Female|80 or older|White|No, borderline di...|              No|     Fair|        5|    No|          Yes|        No|                0.0|          0.0|                   0.0|         0.0|               0.0|      0.0|               5.0|       0.0|           2.0|                    1.0|             3.0|         0.0|                 1.0|              0.0|\n",
            "|          No| 40|     No|             No|    No|             0|           0|        Yes|  Male|      65-69|White|                  No|             Yes|     Good|       10|    No|           No|        No|                0.0|          0.0|                   0.0|         0.0|               1.0|      1.0|               0.0|       0.0|           0.0|                    0.0|             1.0|         0.0|                 0.0|              0.0|\n",
            "|         Yes| 34|    Yes|             No|    No|            30|           0|        Yes|  Male|      60-64|White|                 Yes|              No|     Poor|       15|   Yes|           No|        No|                1.0|          1.0|                   0.0|         0.0|               1.0|      1.0|               1.0|       0.0|           1.0|                    1.0|             4.0|         1.0|                 0.0|              0.0|\n",
            "|          No| 28|    Yes|             No|    No|             0|           0|         No|Female|      55-59|White|                  No|             Yes|Very good|        5|    No|           No|        No|                0.0|          1.0|                   0.0|         0.0|               0.0|      0.0|               3.0|       0.0|           0.0|                    0.0|             0.0|         0.0|                 0.0|              0.0|\n",
            "|          No| 28|    Yes|             No|    No|             0|           0|        Yes|  Male|      75-79|White|                 Yes|             Yes|Very good|        8|    No|           No|        No|                0.0|          1.0|                   0.0|         0.0|               1.0|      1.0|               7.0|       0.0|           1.0|                    0.0|             0.0|         0.0|                 0.0|              0.0|\n",
            "|          No| 28|     No|             No|    No|             7|           0|        Yes|Female|80 or older|White|                  No|              No|     Good|        7|    No|           No|        No|                0.0|          0.0|                   0.0|         0.0|               1.0|      0.0|               5.0|       0.0|           0.0|                    1.0|             1.0|         0.0|                 0.0|              0.0|\n",
            "|          No| 29|    Yes|             No|    No|             0|          30|        Yes|Female|      60-64|White|                  No|              No|     Good|        5|    No|           No|        No|                0.0|          1.0|                   0.0|         0.0|               1.0|      0.0|               1.0|       0.0|           0.0|                    1.0|             1.0|         0.0|                 0.0|              0.0|\n",
            "|          No| 29|     No|             No|    No|             1|           0|         No|Female|      50-54|White|                  No|             Yes|Very good|        6|    No|           No|        No|                0.0|          0.0|                   0.0|         0.0|               0.0|      0.0|               4.0|       0.0|           0.0|                    0.0|             0.0|         0.0|                 0.0|              0.0|\n",
            "|          No| 26|     No|             No|    No|             5|           2|         No|Female|      70-74|White|                  No|              No|Very good|       10|    No|           No|        No|                0.0|          0.0|                   0.0|         0.0|               0.0|      0.0|               2.0|       0.0|           0.0|                    1.0|             0.0|         0.0|                 0.0|              0.0|\n",
            "|          No| 22|    Yes|             No|    No|             0|          30|        Yes|  Male|      70-74|White|No, borderline di...|             Yes|     Good|        8|    No|           No|        No|                0.0|          1.0|                   0.0|         0.0|               1.0|      1.0|               2.0|       0.0|           2.0|                    0.0|             1.0|         0.0|                 0.0|              0.0|\n",
            "|          No| 29|    Yes|             No|    No|             0|           0|        Yes|Female|      75-79|Black|                 Yes|              No|     Fair|        5|    No|          Yes|        No|                0.0|          1.0|                   0.0|         0.0|               1.0|      0.0|               7.0|       2.0|           1.0|                    1.0|             3.0|         0.0|                 1.0|              0.0|\n",
            "|          No| 18|     No|             No|    No|             0|           0|         No|  Male|80 or older|White|                  No|             Yes|Excellent|        8|    No|           No|       Yes|                0.0|          0.0|                   0.0|         0.0|               0.0|      1.0|               5.0|       0.0|           0.0|                    0.0|             2.0|         0.0|                 0.0|              1.0|\n",
            "+------------+---+-------+---------------+------+--------------+------------+-----------+------+-----------+-----+--------------------+----------------+---------+---------+------+-------------+----------+-------------------+-------------+----------------------+------------+------------------+---------+------------------+----------+--------------+-----------------------+----------------+------------+--------------------+-----------------+\n",
            "only showing top 20 rows\n",
            "\n"
          ]
        }
      ]
    },
    {
      "cell_type": "code",
      "source": [
        "drop_columns=['HeartDisease','Smoking','AlcoholDrinking','Stroke','DiffWalking','Sex','AgeCategory','Race','Diabetic','PhysicalActivity','GenHealth','Asthma','KidneyDisease','SkinCancer']\n",
        "data=data.drop(*drop_columns)"
      ],
      "metadata": {
        "id": "WYzBUvzj8kqc"
      },
      "execution_count": 75,
      "outputs": []
    },
    {
      "cell_type": "code",
      "source": [
        "data.show()"
      ],
      "metadata": {
        "colab": {
          "base_uri": "https://localhost:8080/"
        },
        "id": "Qn7tAGDK9KwP",
        "outputId": "6b381659-5296-411c-be7f-664bb40190f8"
      },
      "execution_count": 76,
      "outputs": [
        {
          "output_type": "stream",
          "name": "stdout",
          "text": [
            "+---+--------------+------------+---------+-------------------+-------------+----------------------+------------+------------------+---------+------------------+----------+--------------+-----------------------+----------------+------------+--------------------+-----------------+\n",
            "|BMI|PhysicalHealth|MentalHealth|SleepTime|heart_disease_index|smoking_index|alcohol_drinking_index|stroke_index|diff_walking_index|sex_index|age_category_index|race_index|diabetic_index|physical_activity_index|gen_health_index|asthma_index|kidney_disease_index|skin_cancer_index|\n",
            "+---+--------------+------------+---------+-------------------+-------------+----------------------+------------+------------------+---------+------------------+----------+--------------+-----------------------+----------------+------------+--------------------+-----------------+\n",
            "| 16|             3|          30|        5|                0.0|          1.0|                   0.0|         0.0|               0.0|      0.0|               3.0|       0.0|           1.0|                    0.0|             0.0|         1.0|                 0.0|              1.0|\n",
            "| 20|             0|           0|        7|                0.0|          0.0|                   0.0|         1.0|               0.0|      0.0|               5.0|       0.0|           0.0|                    0.0|             0.0|         0.0|                 0.0|              0.0|\n",
            "| 26|            20|          30|        8|                0.0|          1.0|                   0.0|         0.0|               0.0|      1.0|               0.0|       0.0|           1.0|                    0.0|             3.0|         1.0|                 0.0|              0.0|\n",
            "| 24|             0|           0|        6|                0.0|          0.0|                   0.0|         0.0|               0.0|      0.0|               7.0|       0.0|           0.0|                    1.0|             1.0|         0.0|                 0.0|              1.0|\n",
            "| 23|            28|           0|        8|                0.0|          0.0|                   0.0|         0.0|               1.0|      0.0|               9.0|       0.0|           0.0|                    0.0|             0.0|         0.0|                 0.0|              0.0|\n",
            "| 28|             6|           0|       12|                1.0|          1.0|                   0.0|         0.0|               1.0|      0.0|               7.0|       2.0|           0.0|                    1.0|             3.0|         0.0|                 0.0|              0.0|\n",
            "| 21|            15|           0|        4|                0.0|          0.0|                   0.0|         0.0|               0.0|      0.0|               2.0|       0.0|           0.0|                    0.0|             3.0|         1.0|                 0.0|              1.0|\n",
            "| 31|             5|           0|        9|                0.0|          1.0|                   0.0|         0.0|               1.0|      0.0|               5.0|       0.0|           1.0|                    1.0|             1.0|         1.0|                 0.0|              0.0|\n",
            "| 26|             0|           0|        5|                0.0|          0.0|                   0.0|         0.0|               0.0|      0.0|               5.0|       0.0|           2.0|                    1.0|             3.0|         0.0|                 1.0|              0.0|\n",
            "| 40|             0|           0|       10|                0.0|          0.0|                   0.0|         0.0|               1.0|      1.0|               0.0|       0.0|           0.0|                    0.0|             1.0|         0.0|                 0.0|              0.0|\n",
            "| 34|            30|           0|       15|                1.0|          1.0|                   0.0|         0.0|               1.0|      1.0|               1.0|       0.0|           1.0|                    1.0|             4.0|         1.0|                 0.0|              0.0|\n",
            "| 28|             0|           0|        5|                0.0|          1.0|                   0.0|         0.0|               0.0|      0.0|               3.0|       0.0|           0.0|                    0.0|             0.0|         0.0|                 0.0|              0.0|\n",
            "| 28|             0|           0|        8|                0.0|          1.0|                   0.0|         0.0|               1.0|      1.0|               7.0|       0.0|           1.0|                    0.0|             0.0|         0.0|                 0.0|              0.0|\n",
            "| 28|             7|           0|        7|                0.0|          0.0|                   0.0|         0.0|               1.0|      0.0|               5.0|       0.0|           0.0|                    1.0|             1.0|         0.0|                 0.0|              0.0|\n",
            "| 29|             0|          30|        5|                0.0|          1.0|                   0.0|         0.0|               1.0|      0.0|               1.0|       0.0|           0.0|                    1.0|             1.0|         0.0|                 0.0|              0.0|\n",
            "| 29|             1|           0|        6|                0.0|          0.0|                   0.0|         0.0|               0.0|      0.0|               4.0|       0.0|           0.0|                    0.0|             0.0|         0.0|                 0.0|              0.0|\n",
            "| 26|             5|           2|       10|                0.0|          0.0|                   0.0|         0.0|               0.0|      0.0|               2.0|       0.0|           0.0|                    1.0|             0.0|         0.0|                 0.0|              0.0|\n",
            "| 22|             0|          30|        8|                0.0|          1.0|                   0.0|         0.0|               1.0|      1.0|               2.0|       0.0|           2.0|                    0.0|             1.0|         0.0|                 0.0|              0.0|\n",
            "| 29|             0|           0|        5|                0.0|          1.0|                   0.0|         0.0|               1.0|      0.0|               7.0|       2.0|           1.0|                    1.0|             3.0|         0.0|                 1.0|              0.0|\n",
            "| 18|             0|           0|        8|                0.0|          0.0|                   0.0|         0.0|               0.0|      1.0|               5.0|       0.0|           0.0|                    0.0|             2.0|         0.0|                 0.0|              1.0|\n",
            "+---+--------------+------------+---------+-------------------+-------------+----------------------+------------+------------------+---------+------------------+----------+--------------+-----------------------+----------------+------------+--------------------+-----------------+\n",
            "only showing top 20 rows\n",
            "\n"
          ]
        }
      ]
    },
    {
      "cell_type": "code",
      "source": [
        "data.printSchema()"
      ],
      "metadata": {
        "colab": {
          "base_uri": "https://localhost:8080/"
        },
        "id": "w-k0cbWbBiVf",
        "outputId": "6a0a84e1-d3fd-4172-df0c-606e783be96c"
      },
      "execution_count": 77,
      "outputs": [
        {
          "output_type": "stream",
          "name": "stdout",
          "text": [
            "root\n",
            " |-- BMI: integer (nullable = true)\n",
            " |-- PhysicalHealth: integer (nullable = true)\n",
            " |-- MentalHealth: integer (nullable = true)\n",
            " |-- SleepTime: integer (nullable = true)\n",
            " |-- heart_disease_index: double (nullable = false)\n",
            " |-- smoking_index: double (nullable = false)\n",
            " |-- alcohol_drinking_index: double (nullable = false)\n",
            " |-- stroke_index: double (nullable = false)\n",
            " |-- diff_walking_index: double (nullable = false)\n",
            " |-- sex_index: double (nullable = false)\n",
            " |-- age_category_index: double (nullable = false)\n",
            " |-- race_index: double (nullable = false)\n",
            " |-- diabetic_index: double (nullable = false)\n",
            " |-- physical_activity_index: double (nullable = false)\n",
            " |-- gen_health_index: double (nullable = false)\n",
            " |-- asthma_index: double (nullable = false)\n",
            " |-- kidney_disease_index: double (nullable = false)\n",
            " |-- skin_cancer_index: double (nullable = false)\n",
            "\n"
          ]
        }
      ]
    },
    {
      "cell_type": "code",
      "source": [
        "# VectorAssembler ile bağımsız değişken sütunu oluşturma\n",
        "from pyspark.ml.feature import VectorAssembler"
      ],
      "metadata": {
        "id": "MqneI49IBmer"
      },
      "execution_count": 78,
      "outputs": []
    },
    {
      "cell_type": "code",
      "source": [
        "assemb_data=VectorAssembler(inputCols=data,outputCol=\"independent_feature\")"
      ],
      "metadata": {
        "colab": {
          "base_uri": "https://localhost:8080/"
        },
        "id": "39Ll_Tq8B_1I",
        "outputId": "c11a5fa9-d3df-4c89-8647-aa405ca90b51"
      },
      "execution_count": 72,
      "outputs": [
        {
          "output_type": "stream",
          "name": "stdout",
          "text": [
            "+---+--------------+------------+---------+-------------+----------------------+------------+------------------+---------+------------------+----------+--------------+-----------------------+----------------+------------+--------------------+-----------------+\n",
            "|BMI|PhysicalHealth|MentalHealth|SleepTime|smoking_index|alcohol_drinking_index|stroke_index|diff_walking_index|sex_index|age_category_index|race_index|diabetic_index|physical_activity_index|gen_health_index|asthma_index|kidney_disease_index|skin_cancer_index|\n",
            "+---+--------------+------------+---------+-------------+----------------------+------------+------------------+---------+------------------+----------+--------------+-----------------------+----------------+------------+--------------------+-----------------+\n",
            "| 16|             3|          30|        5|          1.0|                   0.0|         0.0|               0.0|      0.0|               3.0|       0.0|           1.0|                    0.0|             0.0|         1.0|                 0.0|              1.0|\n",
            "| 20|             0|           0|        7|          0.0|                   0.0|         1.0|               0.0|      0.0|               5.0|       0.0|           0.0|                    0.0|             0.0|         0.0|                 0.0|              0.0|\n",
            "| 26|            20|          30|        8|          1.0|                   0.0|         0.0|               0.0|      1.0|               0.0|       0.0|           1.0|                    0.0|             3.0|         1.0|                 0.0|              0.0|\n",
            "| 24|             0|           0|        6|          0.0|                   0.0|         0.0|               0.0|      0.0|               7.0|       0.0|           0.0|                    1.0|             1.0|         0.0|                 0.0|              1.0|\n",
            "| 23|            28|           0|        8|          0.0|                   0.0|         0.0|               1.0|      0.0|               9.0|       0.0|           0.0|                    0.0|             0.0|         0.0|                 0.0|              0.0|\n",
            "| 28|             6|           0|       12|          1.0|                   0.0|         0.0|               1.0|      0.0|               7.0|       2.0|           0.0|                    1.0|             3.0|         0.0|                 0.0|              0.0|\n",
            "| 21|            15|           0|        4|          0.0|                   0.0|         0.0|               0.0|      0.0|               2.0|       0.0|           0.0|                    0.0|             3.0|         1.0|                 0.0|              1.0|\n",
            "| 31|             5|           0|        9|          1.0|                   0.0|         0.0|               1.0|      0.0|               5.0|       0.0|           1.0|                    1.0|             1.0|         1.0|                 0.0|              0.0|\n",
            "| 26|             0|           0|        5|          0.0|                   0.0|         0.0|               0.0|      0.0|               5.0|       0.0|           2.0|                    1.0|             3.0|         0.0|                 1.0|              0.0|\n",
            "| 40|             0|           0|       10|          0.0|                   0.0|         0.0|               1.0|      1.0|               0.0|       0.0|           0.0|                    0.0|             1.0|         0.0|                 0.0|              0.0|\n",
            "| 34|            30|           0|       15|          1.0|                   0.0|         0.0|               1.0|      1.0|               1.0|       0.0|           1.0|                    1.0|             4.0|         1.0|                 0.0|              0.0|\n",
            "| 28|             0|           0|        5|          1.0|                   0.0|         0.0|               0.0|      0.0|               3.0|       0.0|           0.0|                    0.0|             0.0|         0.0|                 0.0|              0.0|\n",
            "| 28|             0|           0|        8|          1.0|                   0.0|         0.0|               1.0|      1.0|               7.0|       0.0|           1.0|                    0.0|             0.0|         0.0|                 0.0|              0.0|\n",
            "| 28|             7|           0|        7|          0.0|                   0.0|         0.0|               1.0|      0.0|               5.0|       0.0|           0.0|                    1.0|             1.0|         0.0|                 0.0|              0.0|\n",
            "| 29|             0|          30|        5|          1.0|                   0.0|         0.0|               1.0|      0.0|               1.0|       0.0|           0.0|                    1.0|             1.0|         0.0|                 0.0|              0.0|\n",
            "| 29|             1|           0|        6|          0.0|                   0.0|         0.0|               0.0|      0.0|               4.0|       0.0|           0.0|                    0.0|             0.0|         0.0|                 0.0|              0.0|\n",
            "| 26|             5|           2|       10|          0.0|                   0.0|         0.0|               0.0|      0.0|               2.0|       0.0|           0.0|                    1.0|             0.0|         0.0|                 0.0|              0.0|\n",
            "| 22|             0|          30|        8|          1.0|                   0.0|         0.0|               1.0|      1.0|               2.0|       0.0|           2.0|                    0.0|             1.0|         0.0|                 0.0|              0.0|\n",
            "| 29|             0|           0|        5|          1.0|                   0.0|         0.0|               1.0|      0.0|               7.0|       2.0|           1.0|                    1.0|             3.0|         0.0|                 1.0|              0.0|\n",
            "| 18|             0|           0|        8|          0.0|                   0.0|         0.0|               0.0|      1.0|               5.0|       0.0|           0.0|                    0.0|             2.0|         0.0|                 0.0|              1.0|\n",
            "+---+--------------+------------+---------+-------------+----------------------+------------+------------------+---------+------------------+----------+--------------+-----------------------+----------------+------------+--------------------+-----------------+\n",
            "only showing top 20 rows\n",
            "\n"
          ]
        }
      ]
    },
    {
      "cell_type": "code",
      "source": [
        ""
      ],
      "metadata": {
        "id": "YIfpg2hfDzHB"
      },
      "execution_count": null,
      "outputs": []
    }
  ]
}